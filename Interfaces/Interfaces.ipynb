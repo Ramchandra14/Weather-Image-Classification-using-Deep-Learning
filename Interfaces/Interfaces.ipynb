{
 "cells": [
  {
   "cell_type": "markdown",
   "id": "e5e8d0d7",
   "metadata": {},
   "source": [
    "# Resnet Interface"
   ]
  },
  {
   "cell_type": "code",
   "execution_count": 2,
   "id": "073a1668",
   "metadata": {},
   "outputs": [],
   "source": [
    "import ResNet50_Interface"
   ]
  },
  {
   "cell_type": "markdown",
   "id": "7b9f4c83",
   "metadata": {},
   "source": [
    "# VGG16 Interface"
   ]
  },
  {
   "cell_type": "code",
   "execution_count": null,
   "id": "674b1794",
   "metadata": {},
   "outputs": [],
   "source": [
    "import VGG_Interface"
   ]
  },
  {
   "cell_type": "markdown",
   "id": "3fba8d09",
   "metadata": {},
   "source": [
    "# MobileNet Interface"
   ]
  },
  {
   "cell_type": "code",
   "execution_count": 4,
   "id": "392c72b6",
   "metadata": {},
   "outputs": [],
   "source": [
    "import MobileNet_Interface"
   ]
  },
  {
   "cell_type": "markdown",
   "id": "72cf8059",
   "metadata": {},
   "source": [
    "# DenseNet Interface"
   ]
  },
  {
   "cell_type": "code",
   "execution_count": 2,
   "id": "49e6592e",
   "metadata": {},
   "outputs": [],
   "source": [
    "import DenseNet_Interface"
   ]
  },
  {
   "cell_type": "markdown",
   "id": "19ca5c75",
   "metadata": {},
   "source": [
    "# CNN Interface"
   ]
  },
  {
   "cell_type": "code",
   "execution_count": 1,
   "id": "606959a5",
   "metadata": {},
   "outputs": [],
   "source": [
    "import CNN_Interface "
   ]
  },
  {
   "cell_type": "code",
   "execution_count": null,
   "id": "31fae561",
   "metadata": {},
   "outputs": [],
   "source": []
  }
 ],
 "metadata": {
  "kernelspec": {
   "display_name": "Python 3 (ipykernel)",
   "language": "python",
   "name": "python3"
  },
  "language_info": {
   "codemirror_mode": {
    "name": "ipython",
    "version": 3
   },
   "file_extension": ".py",
   "mimetype": "text/x-python",
   "name": "python",
   "nbconvert_exporter": "python",
   "pygments_lexer": "ipython3",
   "version": "3.9.7"
  }
 },
 "nbformat": 4,
 "nbformat_minor": 5
}
