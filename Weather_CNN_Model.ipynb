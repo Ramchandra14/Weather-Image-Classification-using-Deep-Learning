{
 "cells": [
  {
   "cell_type": "code",
   "execution_count": 43,
   "id": "74af9b74",
   "metadata": {},
   "outputs": [],
   "source": [
    "import tensorflow as tf\n",
    "from tensorflow.keras.layers import Input, Dense, Flatten \n",
    "from keras.layers import Dense, Dropout, Flatten, Conv2D, MaxPool2D\n",
    "from tensorflow.keras.models import Model\n",
    "from tensorflow.keras.applications.vgg16 import VGG16\n",
    "from tensorflow.keras.applications.vgg16 import preprocess_input\n",
    "from tensorflow.keras.preprocessing.image import ImageDataGenerator\n",
    "from tensorflow.keras.preprocessing import image_dataset_from_directory\n",
    "from tensorflow.keras.losses import CategoricalCrossentropy\n",
    "from tensorflow.python.keras import layers, optimizers\n",
    "from tensorflow.keras.callbacks import Callback, EarlyStopping\n",
    "#import cv2\n",
    "import numpy as np\n",
    "import os\n",
    "import pandas as pd\n",
    "import matplotlib.pyplot as plt\n"
   ]
  },
  {
   "cell_type": "code",
   "execution_count": 44,
   "id": "266347fd",
   "metadata": {},
   "outputs": [],
   "source": [
    "input_size = (224, 224)"
   ]
  },
  {
   "cell_type": "code",
   "execution_count": 45,
   "id": "f1315fac",
   "metadata": {},
   "outputs": [
    {
     "name": "stdout",
     "output_type": "stream",
     "text": [
      "Found 5493 images belonging to 11 classes.\n",
      "Found 1369 images belonging to 11 classes.\n"
     ]
    }
   ],
   "source": [
    "datagen = ImageDataGenerator(rescale = 1./255,\n",
    "                             shear_range = 0.2,\n",
    "                             zoom_range = 0.2,\n",
    "                             horizontal_flip = True,\n",
    "                             vertical_flip=True,\n",
    "                             rotation_range=30,\n",
    "                             validation_split=0.2\n",
    "                             )\n",
    "# prepare an iterators for each dataset\n",
    "train_it = datagen.flow_from_directory( 'dataset', \n",
    "                                       class_mode='categorical',\n",
    "                                       classes=['dew', 'fogsmog','frost','glaze','hail','lightning','rain','rainbow','rime','sandstorm','snow'],\n",
    "                                       target_size=(224, 224),\n",
    "                                       batch_size=128,\n",
    "                                       subset='training',\n",
    "                                       seed=7)\n",
    "# prepare an iterators for each dataset\n",
    "val_it = datagen.flow_from_directory( 'dataset', \n",
    "                                       class_mode='categorical',\n",
    "                                       classes=['dew', 'fogsmog','frost','glaze','hail','lightning','rain','rainbow','rime','sandstorm','snow'],\n",
    "                                       target_size=(224, 224),\n",
    "                                       batch_size=128,\n",
    "                                       subset='validation',\n",
    "                                       seed=7)"
   ]
  },
  {
   "cell_type": "code",
   "execution_count": 46,
   "id": "83a4afca",
   "metadata": {},
   "outputs": [
    {
     "name": "stdout",
     "output_type": "stream",
     "text": [
      "Batch shape=(128, 224, 224, 3), min=0.000, max=1.000\n"
     ]
    }
   ],
   "source": [
    "# confirm the iterator works\n",
    "batchX, batchy = train_it.next()\n",
    "print('Batch shape=%s, min=%.3f, max=%.3f' % (batchX.shape, batchX.min(), batchX.max()))"
   ]
  },
  {
   "cell_type": "code",
   "execution_count": 47,
   "id": "c99a0376",
   "metadata": {},
   "outputs": [],
   "source": [
    "\"\"\"# Create Simple CNN model\"\"\"\n",
    "\n",
    "from tensorflow.keras.layers import Conv2D, MaxPooling2D, Flatten, Dense\n",
    "from tensorflow.keras import Sequential\n",
    "\n",
    "model = Sequential()\n",
    "model.add(Conv2D(32, (5,5),padding='same',activation='relu',input_shape=(224,224,3)))\n",
    "model.add(MaxPooling2D(pool_size=(4,4)))\n",
    "# REPEAT CONV AND POOLING layer 3 TIMES\n",
    "model.add(Conv2D(64, (5,5),padding='same',activation='relu'))\n",
    "model.add(MaxPooling2D(pool_size=(4,4)))\n",
    "#model.add(Conv2D(128, (5,5),padding='valid',activation='relu'))\n",
    "# model.add(Conv2D(256, (5,5),padding='valid',activation='relu'))\n",
    "# model.add(MaxPooling2D(pool_size=(4,4)))\n",
    "model.add(Flatten())\n",
    "model.add(Dense(128,activation='relu'))\n",
    "model.add(Dense(64,activation='relu'))\n",
    "model.add(Dense(11,activation='softmax'))"
   ]
  },
  {
   "cell_type": "code",
   "execution_count": 48,
   "id": "e816fc2a",
   "metadata": {},
   "outputs": [],
   "source": [
    "lr_schedule = tf.keras.optimizers.schedules.ExponentialDecay(initial_learning_rate=1e-2,decay_steps=10000,decay_rate=0.9)"
   ]
  },
  {
   "cell_type": "code",
   "execution_count": 49,
   "id": "59c8d6cc",
   "metadata": {},
   "outputs": [],
   "source": [
    "model.compile(\n",
    "  optimizer=tf.keras.optimizers.SGD(learning_rate=lr_schedule),\n",
    "  loss=CategoricalCrossentropy(),\n",
    "  metrics=['accuracy'])\n",
    "\n",
    "\n",
    "stop_early= [EarlyStopping(monitor='val_loss',\n",
    "                              min_delta=0,\n",
    "                              patience=2,\n",
    "                              mode='min')]\n",
    "\n"
   ]
  },
  {
   "cell_type": "code",
   "execution_count": 50,
   "id": "81df25a8",
   "metadata": {},
   "outputs": [
    {
     "name": "stdout",
     "output_type": "stream",
     "text": [
      "Epoch 1/30\n",
      "43/43 [==============================] - 186s 4s/step - loss: 2.3489 - accuracy: 0.1617 - val_loss: 2.2868 - val_accuracy: 0.1965\n",
      "Epoch 2/30\n",
      "43/43 [==============================] - 175s 4s/step - loss: 2.2137 - accuracy: 0.2237 - val_loss: 2.1520 - val_accuracy: 0.2272\n",
      "Epoch 3/30\n",
      "43/43 [==============================] - 183s 4s/step - loss: 2.0711 - accuracy: 0.2966 - val_loss: 1.9805 - val_accuracy: 0.3163\n",
      "Epoch 4/30\n",
      "43/43 [==============================] - 175s 4s/step - loss: 1.9638 - accuracy: 0.3228 - val_loss: 1.9685 - val_accuracy: 0.3178\n",
      "Epoch 5/30\n",
      "43/43 [==============================] - 174s 4s/step - loss: 1.8616 - accuracy: 0.3623 - val_loss: 2.2589 - val_accuracy: 0.2272\n",
      "Epoch 6/30\n",
      "43/43 [==============================] - 178s 4s/step - loss: 1.7936 - accuracy: 0.3932 - val_loss: 1.7180 - val_accuracy: 0.4405\n",
      "Epoch 7/30\n",
      "43/43 [==============================] - 174s 4s/step - loss: 1.6921 - accuracy: 0.4358 - val_loss: 1.7389 - val_accuracy: 0.3996\n",
      "Epoch 8/30\n",
      "43/43 [==============================] - 174s 4s/step - loss: 1.6262 - accuracy: 0.4469 - val_loss: 1.6443 - val_accuracy: 0.4280\n",
      "Epoch 9/30\n",
      "43/43 [==============================] - 175s 4s/step - loss: 1.5496 - accuracy: 0.4744 - val_loss: 1.6301 - val_accuracy: 0.4324\n",
      "Epoch 10/30\n",
      "43/43 [==============================] - 173s 4s/step - loss: 1.4840 - accuracy: 0.4941 - val_loss: 1.3935 - val_accuracy: 0.5310\n",
      "Epoch 11/30\n",
      "43/43 [==============================] - 172s 4s/step - loss: 1.4837 - accuracy: 0.4939 - val_loss: 1.4414 - val_accuracy: 0.5004\n",
      "Epoch 12/30\n",
      "43/43 [==============================] - 172s 4s/step - loss: 1.4321 - accuracy: 0.5154 - val_loss: 1.3749 - val_accuracy: 0.5573\n",
      "Epoch 13/30\n",
      "43/43 [==============================] - 175s 4s/step - loss: 1.4013 - accuracy: 0.5207 - val_loss: 1.4532 - val_accuracy: 0.5091\n",
      "Epoch 14/30\n",
      "43/43 [==============================] - 172s 4s/step - loss: 1.3600 - accuracy: 0.5263 - val_loss: 1.4383 - val_accuracy: 0.5230\n"
     ]
    }
   ],
   "source": [
    "history = model.fit( \n",
    "  train_it,\n",
    "  validation_data=val_it,\n",
    "  epochs=30,\n",
    "  callbacks=stop_early)"
   ]
  },
  {
   "cell_type": "code",
   "execution_count": 51,
   "id": "0b371404",
   "metadata": {},
   "outputs": [
    {
     "data": {
      "text/plain": [
       "<matplotlib.legend.Legend at 0x168a8136fd0>"
      ]
     },
     "execution_count": 51,
     "metadata": {},
     "output_type": "execute_result"
    },
    {
     "data": {
      "image/png": "[encoded data removed]",
      "text/plain": [
       "<Figure size 432x288 with 1 Axes>"
      ]
     },
     "metadata": {
      "needs_background": "light"
     },
     "output_type": "display_data"
    }
   ],
   "source": [
    "plt.plot(history.history['val_accuracy'])\n",
    "plt.plot(history.history['val_loss'])\n",
    "plt.legend(['val_accuracy','val_loss'])"
   ]
  },
  {
   "cell_type": "code",
   "execution_count": 52,
   "id": "33b6fc20",
   "metadata": {},
   "outputs": [
    {
     "name": "stdout",
     "output_type": "stream",
     "text": [
      "Accuracy: 52.0 %\n"
     ]
    }
   ],
   "source": [
    "acc=history.history['val_accuracy']\n",
    "print(f'Accuracy: {np.round(acc[-1]*100)} %')"
   ]
  },
  {
   "cell_type": "code",
   "execution_count": 53,
   "id": "39421822",
   "metadata": {},
   "outputs": [
    {
     "name": "stdout",
     "output_type": "stream",
     "text": [
      "Loss: 1.438339114189148\n"
     ]
    }
   ],
   "source": [
    "loss=history.history['val_loss']\n",
    "print(f'Loss: {loss[-1]}')"
   ]
  },
  {
   "cell_type": "code",
   "execution_count": 54,
   "id": "ec77e22b",
   "metadata": {},
   "outputs": [],
   "source": [
    "model.save(\"model_CNN_1.h5\")"
   ]
  },
  {
   "cell_type": "markdown",
   "id": "05d7463b",
   "metadata": {},
   "source": [
    "# Fine Tuning"
   ]
  },
  {
   "cell_type": "code",
   "execution_count": 55,
   "id": "0760ca99",
   "metadata": {},
   "outputs": [
    {
     "name": "stdout",
     "output_type": "stream",
     "text": [
      "Model: \"sequential_4\"\n",
      "_________________________________________________________________\n",
      " Layer (type)                Output Shape              Param #   \n",
      "=================================================================\n",
      " conv2d_10 (Conv2D)          (None, 224, 224, 32)      896       \n",
      "                                                                 \n",
      " conv2d_11 (Conv2D)          (None, 224, 224, 32)      9248      \n",
      "                                                                 \n",
      " max_pooling2d_6 (MaxPooling  (None, 112, 112, 32)     0         \n",
      " 2D)                                                             \n",
      "                                                                 \n",
      " dropout_3 (Dropout)         (None, 112, 112, 32)      0         \n",
      "                                                                 \n",
      " conv2d_12 (Conv2D)          (None, 112, 112, 64)      18496     \n",
      "                                                                 \n",
      " conv2d_13 (Conv2D)          (None, 112, 112, 64)      36928     \n",
      "                                                                 \n",
      " max_pooling2d_7 (MaxPooling  (None, 56, 56, 64)       0         \n",
      " 2D)                                                             \n",
      "                                                                 \n",
      " dropout_4 (Dropout)         (None, 56, 56, 64)        0         \n",
      "                                                                 \n",
      " flatten_3 (Flatten)         (None, 200704)            0         \n",
      "                                                                 \n",
      " dense_8 (Dense)             (None, 128)               25690240  \n",
      "                                                                 \n",
      " dropout_5 (Dropout)         (None, 128)               0         \n",
      "                                                                 \n",
      " dense_9 (Dense)             (None, 11)                1419      \n",
      "                                                                 \n",
      "=================================================================\n",
      "Total params: 25,757,227\n",
      "Trainable params: 25,757,227\n",
      "Non-trainable params: 0\n",
      "_________________________________________________________________\n"
     ]
    }
   ],
   "source": [
    "#https://www.kaggle.com/code/sid321axn/step-wise-approach-cnn-model-77-0344-accuracy/notebook\n",
    "# Set the CNN model \n",
    "# my CNN architechture is In -> [[Conv2D->relu]*2 -> MaxPool2D -> Dropout]*2 -> Flatten -> Dense -> Dropout -> Out\n",
    "input_shape = (224, 224, 3)\n",
    "num_classes = 11\n",
    "\n",
    "model = Sequential()\n",
    "model.add(Conv2D(32, kernel_size=(3, 3),activation='relu',padding = 'Same',input_shape=input_shape))\n",
    "model.add(Conv2D(32,kernel_size=(3, 3), activation='relu',padding = 'Same',))\n",
    "model.add(MaxPool2D(pool_size = (2, 2)))\n",
    "model.add(Dropout(0.15))\n",
    "model.add(Conv2D(64, (3, 3), activation='relu',padding = 'Same'))\n",
    "model.add(Conv2D(64, (3, 3), activation='relu',padding = 'Same'))\n",
    "model.add(MaxPool2D(pool_size=(2, 2)))\n",
    "model.add(Dropout(0.10))\n",
    "model.add(Flatten())\n",
    "model.add(Dense(128, activation='relu'))\n",
    "model.add(Dropout(0.10))\n",
    "model.add(Dense(num_classes, activation='softmax'))\n",
    "model.summary()"
   ]
  },
  {
   "cell_type": "code",
   "execution_count": 56,
   "id": "053ae856",
   "metadata": {},
   "outputs": [],
   "source": [
    "# Compile the model\n",
    "model.compile(optimizer = 'Adam' , loss = \"categorical_crossentropy\", metrics=[\"accuracy\"])"
   ]
  },
  {
   "cell_type": "code",
   "execution_count": 59,
   "id": "09db57ea",
   "metadata": {},
   "outputs": [],
   "source": [
    "# Set a learning rate annealer\n",
    "from keras.callbacks import ReduceLROnPlateau\n",
    "learning_rate_reduction = ReduceLROnPlateau(monitor='val_loss', \n",
    "                                            patience=3, \n",
    "                                            verbose=1, \n",
    "                                            factor=0.5, \n",
    "                                            min_lr=0.00001)"
   ]
  },
  {
   "cell_type": "code",
   "execution_count": 60,
   "id": "8a1c61c2",
   "metadata": {},
   "outputs": [
    {
     "name": "stdout",
     "output_type": "stream",
     "text": [
      "Epoch 1/30\n",
      "43/43 [==============================] - 670s 16s/step - loss: 1.3202 - accuracy: 0.5522 - val_loss: 1.2488 - val_accuracy: 0.5814 - lr: 0.0010\n",
      "Epoch 2/30\n",
      "43/43 [==============================] - 676s 16s/step - loss: 1.3094 - accuracy: 0.5458 - val_loss: 1.1800 - val_accuracy: 0.5953 - lr: 0.0010\n",
      "Epoch 3/30\n",
      "43/43 [==============================] - 672s 16s/step - loss: 1.2823 - accuracy: 0.5587 - val_loss: 1.1525 - val_accuracy: 0.6326 - lr: 0.0010\n",
      "Epoch 4/30\n",
      "43/43 [==============================] - 680s 16s/step - loss: 1.2500 - accuracy: 0.5709 - val_loss: 1.1453 - val_accuracy: 0.6165 - lr: 0.0010\n",
      "Epoch 5/30\n",
      "43/43 [==============================] - 653s 15s/step - loss: 1.2375 - accuracy: 0.5762 - val_loss: 1.1202 - val_accuracy: 0.6275 - lr: 0.0010\n",
      "Epoch 6/30\n",
      "43/43 [==============================] - 691s 16s/step - loss: 1.2263 - accuracy: 0.5775 - val_loss: 1.0930 - val_accuracy: 0.6413 - lr: 0.0010\n",
      "Epoch 7/30\n",
      "43/43 [==============================] - 680s 16s/step - loss: 1.2248 - accuracy: 0.5780 - val_loss: 1.1216 - val_accuracy: 0.6267 - lr: 0.0010\n",
      "Epoch 8/30\n",
      "43/43 [==============================] - 673s 16s/step - loss: 1.2285 - accuracy: 0.5745 - val_loss: 1.1319 - val_accuracy: 0.6114 - lr: 0.0010\n",
      "Epoch 9/30\n",
      "43/43 [==============================] - ETA: 0s - loss: 1.1884 - accuracy: 0.5946 \n",
      "Epoch 9: ReduceLROnPlateau reducing learning rate to 0.0005000000237487257.\n",
      "43/43 [==============================] - 669s 16s/step - loss: 1.1884 - accuracy: 0.5946 - val_loss: 1.0948 - val_accuracy: 0.6150 - lr: 0.0010\n",
      "Epoch 10/30\n",
      "43/43 [==============================] - 675s 16s/step - loss: 1.1394 - accuracy: 0.6057 - val_loss: 1.0469 - val_accuracy: 0.6603 - lr: 5.0000e-04\n",
      "Epoch 11/30\n",
      "43/43 [==============================] - 671s 16s/step - loss: 1.1178 - accuracy: 0.6144 - val_loss: 1.0297 - val_accuracy: 0.6581 - lr: 5.0000e-04\n",
      "Epoch 12/30\n",
      "43/43 [==============================] - 699s 16s/step - loss: 1.1070 - accuracy: 0.6193 - val_loss: 1.0147 - val_accuracy: 0.6538 - lr: 5.0000e-04\n",
      "Epoch 13/30\n",
      "43/43 [==============================] - 665s 15s/step - loss: 1.1074 - accuracy: 0.6184 - val_loss: 1.0548 - val_accuracy: 0.6486 - lr: 5.0000e-04\n",
      "Epoch 14/30\n",
      "43/43 [==============================] - 667s 15s/step - loss: 1.0900 - accuracy: 0.6250 - val_loss: 1.0462 - val_accuracy: 0.6457 - lr: 5.0000e-04\n",
      "Epoch 15/30\n",
      "43/43 [==============================] - ETA: 0s - loss: 1.1105 - accuracy: 0.6201 \n",
      "Epoch 15: ReduceLROnPlateau reducing learning rate to 0.0002500000118743628.\n",
      "43/43 [==============================] - 657s 15s/step - loss: 1.1105 - accuracy: 0.6201 - val_loss: 1.0355 - val_accuracy: 0.6465 - lr: 5.0000e-04\n",
      "Epoch 16/30\n",
      "43/43 [==============================] - 655s 15s/step - loss: 1.0778 - accuracy: 0.6272 - val_loss: 0.9923 - val_accuracy: 0.6611 - lr: 2.5000e-04\n",
      "Epoch 17/30\n",
      "43/43 [==============================] - 659s 15s/step - loss: 1.0761 - accuracy: 0.6297 - val_loss: 0.9817 - val_accuracy: 0.6662 - lr: 2.5000e-04\n",
      "Epoch 18/30\n",
      "43/43 [==============================] - 648s 15s/step - loss: 1.0676 - accuracy: 0.6272 - val_loss: 0.9798 - val_accuracy: 0.6757 - lr: 2.5000e-04\n",
      "Epoch 19/30\n",
      "43/43 [==============================] - 637s 15s/step - loss: 1.0469 - accuracy: 0.6352 - val_loss: 0.9981 - val_accuracy: 0.6538 - lr: 2.5000e-04\n",
      "Epoch 20/30\n",
      "43/43 [==============================] - 635s 15s/step - loss: 1.0485 - accuracy: 0.6381 - val_loss: 0.9793 - val_accuracy: 0.6596 - lr: 2.5000e-04\n",
      "Epoch 21/30\n",
      "43/43 [==============================] - 650s 15s/step - loss: 1.0660 - accuracy: 0.6323 - val_loss: 1.0034 - val_accuracy: 0.6793 - lr: 2.5000e-04\n",
      "Epoch 22/30\n",
      "43/43 [==============================] - 630s 15s/step - loss: 1.0541 - accuracy: 0.6323 - val_loss: 0.9825 - val_accuracy: 0.6706 - lr: 2.5000e-04\n",
      "Epoch 23/30\n",
      "43/43 [==============================] - 671s 16s/step - loss: 1.0441 - accuracy: 0.6330 - val_loss: 0.9763 - val_accuracy: 0.6706 - lr: 2.5000e-04\n",
      "Epoch 24/30\n",
      "43/43 [==============================] - 672s 16s/step - loss: 1.0514 - accuracy: 0.6384 - val_loss: 0.9848 - val_accuracy: 0.6837 - lr: 2.5000e-04\n",
      "Epoch 25/30\n",
      "43/43 [==============================] - 668s 15s/step - loss: 1.0364 - accuracy: 0.6388 - val_loss: 0.9512 - val_accuracy: 0.6684 - lr: 2.5000e-04\n",
      "Epoch 26/30\n",
      "43/43 [==============================] - 702s 16s/step - loss: 1.0394 - accuracy: 0.6350 - val_loss: 0.9555 - val_accuracy: 0.6684 - lr: 2.5000e-04\n",
      "Epoch 27/30\n",
      "43/43 [==============================] - 707s 16s/step - loss: 1.0307 - accuracy: 0.6417 - val_loss: 0.9453 - val_accuracy: 0.6786 - lr: 2.5000e-04\n",
      "Epoch 28/30\n",
      "43/43 [==============================] - 734s 17s/step - loss: 1.0404 - accuracy: 0.6392 - val_loss: 0.9729 - val_accuracy: 0.6698 - lr: 2.5000e-04\n",
      "Epoch 29/30\n",
      "43/43 [==============================] - 643s 15s/step - loss: 1.0271 - accuracy: 0.6465 - val_loss: 0.9673 - val_accuracy: 0.6684 - lr: 2.5000e-04\n",
      "Epoch 30/30\n",
      "43/43 [==============================] - ETA: 0s - loss: 1.0058 - accuracy: 0.6508 \n",
      "Epoch 30: ReduceLROnPlateau reducing learning rate to 0.0001250000059371814.\n",
      "43/43 [==============================] - 643s 15s/step - loss: 1.0058 - accuracy: 0.6508 - val_loss: 0.9537 - val_accuracy: 0.6786 - lr: 2.5000e-04\n"
     ]
    }
   ],
   "source": [
    "history = model.fit( \n",
    "  train_it,\n",
    "  validation_data=val_it,\n",
    "  epochs=30,\n",
    "  callbacks=[learning_rate_reduction])"
   ]
  },
  {
   "cell_type": "code",
   "execution_count": 67,
   "id": "a7c4caf5",
   "metadata": {},
   "outputs": [
    {
     "name": "stdout",
     "output_type": "stream",
     "text": [
      "11/11 [==============================] - 28s 2s/step - loss: 0.9424 - accuracy: 0.6764\n",
      "    Test Loss: 0.94236\n",
      "Test Accuracy: 67.64%\n"
     ]
    }
   ],
   "source": [
    "results = model.evaluate(val_it, verbose=1)\n",
    "    \n",
    "print(\"    Test Loss: {:.5f}\".format(results[0]))\n",
    "print(\"Test Accuracy: {:.2f}%\".format(results[1] * 100))\n"
   ]
  },
  {
   "cell_type": "code",
   "execution_count": 63,
   "id": "cf5e0b69",
   "metadata": {},
   "outputs": [
    {
     "data": {
      "text/plain": [
       "<matplotlib.legend.Legend at 0x168a842b910>"
      ]
     },
     "execution_count": 63,
     "metadata": {},
     "output_type": "execute_result"
    },
    {
     "data": {
      "image/png": "[encoded data removed]",
      "text/plain": [
       "<Figure size 432x288 with 1 Axes>"
      ]
     },
     "metadata": {
      "needs_background": "light"
     },
     "output_type": "display_data"
    }
   ],
   "source": [
    "plt.plot(history.history['val_accuracy'])\n",
    "plt.plot(history.history['val_loss'])\n",
    "plt.legend(['val_accuracy','val_loss'])"
   ]
  },
  {
   "cell_type": "code",
   "execution_count": 65,
   "id": "2bb1929a",
   "metadata": {},
   "outputs": [
    {
     "data": {
      "image/png": "[encoded data removed]",
      "text/plain": [
       "<Figure size 720x216 with 2 Axes>"
      ]
     },
     "metadata": {
      "needs_background": "light"
     },
     "output_type": "display_data"
    }
   ],
   "source": [
    "fig, ax = plt.subplots(1, 2, figsize=(10, 3))\n",
    "for i, parameter in enumerate(['accuracy', 'loss']):\n",
    "        ax[i].plot(history.history[parameter])\n",
    "        ax[i].plot(history.history['val_' + parameter])\n",
    "        ax[i].set_title(f'Model {parameter}')\n",
    "        ax[i].set_xlabel('epochs')\n",
    "        ax[i].set_ylabel(parameter)\n",
    "        ax[i].legend(['Train', 'Validation'])"
   ]
  },
  {
   "cell_type": "code",
   "execution_count": 68,
   "id": "56d5a302",
   "metadata": {},
   "outputs": [],
   "source": [
    "model.save(\"model_CNN_2.h5\")"
   ]
  },
  {
   "cell_type": "code",
   "execution_count": 70,
   "id": "629f5786",
   "metadata": {},
   "outputs": [
    {
     "name": "stdout",
     "output_type": "stream",
     "text": [
      "Accuracy: 68.0 %\n",
      "Loss: 0.9536527991294861\n"
     ]
    }
   ],
   "source": [
    "acc=history.history['val_accuracy']\n",
    "print(f'Accuracy: {np.round(acc[-1]*100)} %')\n",
    "loss=history.history['val_loss']\n",
    "print(f'Loss: {loss[-1]}')"
   ]
  },
  {
   "cell_type": "markdown",
   "id": "bb6cf0fc",
   "metadata": {},
   "source": [
    "https://www.kaggle.com/code/sid321axn/step-wise-approach-cnn-model-77-0344-accuracy/notebook"
   ]
  },
  {
   "cell_type": "code",
   "execution_count": null,
   "id": "3fed08ad",
   "metadata": {},
   "outputs": [],
   "source": []
  }
 ],
 "metadata": {
  "kernelspec": {
   "display_name": "Python 3 (ipykernel)",
   "language": "python",
   "name": "python3"
  },
  "language_info": {
   "codemirror_mode": {
    "name": "ipython",
    "version": 3
   },
   "file_extension": ".py",
   "mimetype": "text/x-python",
   "name": "python",
   "nbconvert_exporter": "python",
   "pygments_lexer": "ipython3",
   "version": "3.9.7"
  }
 },
 "nbformat": 4,
 "nbformat_minor": 5
}
